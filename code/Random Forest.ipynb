{
 "metadata": {
  "name": "",
  "signature": "sha256:62cef2f044bfe9ce3c63902f719bf2bdb6e3604a255d2affcdccd19ac49076ac"
 },
 "nbformat": 3,
 "nbformat_minor": 0,
 "worksheets": [
  {
   "cells": [
    {
     "cell_type": "code",
     "collapsed": false,
     "input": [
      "import pandas as pd\n",
      "import numpy as np\n",
      "import matplotlib.pyplot as plt\n",
      "import csv as csv\n",
      "from sklearn.ensemble import RandomForestClassifier\n",
      "from sklearn.cross_validation import train_test_split\n",
      "%matplotlib inline"
     ],
     "language": "python",
     "metadata": {},
     "outputs": [],
     "prompt_number": 1
    },
    {
     "cell_type": "heading",
     "level": 3,
     "metadata": {},
     "source": [
      "Applying Random Forest with already available features"
     ]
    },
    {
     "cell_type": "code",
     "collapsed": false,
     "input": [
      "data = pd.read_csv('../data/train.csv')\n",
      "test_data = pd.read_csv('../data/test.csv')\n",
      "\n",
      "train_data = train_df[['datetime','season','holiday','workingday','weather','temp','atemp','humidity','windspeed', 'count']].values\n",
      "test_data = test_df[['datetime','season','holiday','workingday','weather','temp','atemp','humidity','windspeed']].values\n",
      "\n",
      "forest = RandomForestClassifier()\n",
      "forest.fit(train_data[0::,1:-1], train_data[0::,-1])\n",
      "output = forest.predict(test_data[0::,1::]).astype(int)\n",
      "datetimes = test_data[0::,0]\n",
      "\n",
      "\n",
      "\n",
      "predictions_file = open(\"../data/random_forest_submission.csv\", \"wb\")\n",
      "open_file_object = csv.writer(predictions_file)\n",
      "\n",
      "open_file_object.writerow([\"datetime\",\"count\"])\n",
      "open_file_object.writerows(zip(datetimes, output))\n",
      "predictions_file.close()\n",
      "print 'Done...'"
     ],
     "language": "python",
     "metadata": {},
     "outputs": [
      {
       "output_type": "stream",
       "stream": "stdout",
       "text": [
        "Done...\n"
       ]
      }
     ],
     "prompt_number": 84
    },
    {
     "cell_type": "heading",
     "level": 3,
     "metadata": {},
     "source": [
      "Adding time feature (extracted from datetime) while applying Random Forest"
     ]
    },
    {
     "cell_type": "code",
     "collapsed": false,
     "input": [
      "train_df = pd.read_csv('../data/train.csv')\n",
      "test_df = pd.read_csv('../data/test.csv')\n",
      "\n",
      "datetime_values = train_df['datetime'].values\n",
      "time_values = []\n",
      "for datetime_value in datetime_values:\n",
      "    time_values.append(datetime_value.split()[1].split(':')[0])\n",
      "train_df['time'] = time_values\n",
      "\n",
      "datetime_values = test_df['datetime'].values\n",
      "time_values = []\n",
      "for datetime_value in datetime_values:\n",
      "    time_values.append(datetime_value.split()[1].split(':')[0])\n",
      "test_df['time'] = time_values\n",
      "train_data = train_df[['datetime','season','holiday','workingday','weather','temp','atemp','humidity','windspeed','time', 'count']].values\n",
      "test_data = test_df[['datetime','season','holiday','workingday','weather','temp','atemp','humidity','windspeed','time']].values\n",
      "\n",
      "forest = RandomForestClassifier()\n",
      "forest.fit(train_data[0::,1:-1], train_data[0::,-1])\n",
      "output = forest.predict(test_data[0::,1::]).astype(int)\n",
      "datetimes = test_data[0::,0]\n",
      "\n",
      "\n",
      "predictions_file = open(\"../data/random_forest_submission.csv\", \"wb\")\n",
      "open_file_object = csv.writer(predictions_file)\n",
      "open_file_object.writerow([\"datetime\",\"count\"])\n",
      "open_file_object.writerows(zip(datetimes, output))\n",
      "predictions_file.close()\n",
      "print 'Done.'"
     ],
     "language": "python",
     "metadata": {},
     "outputs": [
      {
       "output_type": "stream",
       "stream": "stdout",
       "text": [
        "Done.\n"
       ]
      }
     ],
     "prompt_number": 85
    },
    {
     "cell_type": "code",
     "collapsed": false,
     "input": [
      "train_df = pd.read_csv('../data/train.csv')\n",
      "test_df = pd.read_csv('../data/test.csv')\n",
      "\n",
      "datetime_values = train_df['datetime'].values\n",
      "time_values = []\n",
      "date_values = []\n",
      "month_values = []\n",
      "for datetime_value in datetime_values:\n",
      "    time_values.append(datetime_value.split()[1].split(':')[0])\n",
      "    date_values.append(datetime_value.split()[0].split('-')[2])\n",
      "    month_values.append(datetime_value.split()[0].split('-')[1])\n",
      "train_df['time'] = time_values\n",
      "train_df['date'] = date_values\n",
      "train_df['month'] = month_values\n",
      "\n",
      "datetime_values = test_df['datetime'].values\n",
      "time_values = []\n",
      "date_values = []\n",
      "month_values = []\n",
      "for datetime_value in datetime_values:\n",
      "    time_values.append(datetime_value.split()[1].split(':')[0])\n",
      "    date_values.append(datetime_value.split()[0].split('-')[2])\n",
      "    month_values.append(datetime_value.split()[0].split('-')[1])\n",
      "test_df['time'] = time_values\n",
      "test_df['date'] = date_values\n",
      "test_df['month'] = month_values\n",
      "\n",
      "train_data = train_df[['datetime','season','holiday','workingday','weather','temp','atemp','humidity','windspeed','time','date','month','count']].values\n",
      "test_data = test_df[['datetime','season','holiday','workingday','weather','temp','atemp','humidity','windspeed','time','date','month']].values\n",
      "\n",
      "forest = RandomForestClassifier(n_estimators=100)\n",
      "forest.fit(train_data[0::,1:-1], train_data[0::,-1])\n",
      "output = forest.predict(test_data[0::,1::]).astype(int)\n",
      "\n",
      "datetimes = test_data[0::,0]\n",
      "predictions_file = open(\"../data/random_forest_submission.csv\", \"wb\")\n",
      "open_file_object = csv.writer(predictions_file)\n",
      "open_file_object.writerow([\"datetime\",\"count\"])\n",
      "open_file_object.writerows(zip(datetimes, output))\n",
      "predictions_file.close()\n",
      "print 'Done.'"
     ],
     "language": "python",
     "metadata": {},
     "outputs": []
    },
    {
     "cell_type": "code",
     "collapsed": false,
     "input": [
      "a_train, a_test, b_train, b_test = train_test_split(a, b, test_size=0.33, random_state=42)"
     ],
     "language": "python",
     "metadata": {},
     "outputs": []
    }
   ],
   "metadata": {}
  }
 ]
}